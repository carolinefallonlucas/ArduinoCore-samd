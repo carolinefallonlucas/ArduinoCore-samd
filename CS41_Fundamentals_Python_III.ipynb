{
  "nbformat": 4,
  "nbformat_minor": 0,
  "metadata": {
    "colab": {
      "name": "CS41: Fundamentals: Python III",
      "provenance": []
    },
    "kernelspec": {
      "name": "python3",
      "display_name": "Python 3"
    }
  },
  "cells": [
    {
      "cell_type": "code",
      "metadata": {
        "colab": {
          "base_uri": "https://localhost:8080/"
        },
        "id": "F7TYfBT0F0uT",
        "outputId": "8e9ade0e-c376-4a31-eafa-f4afeec2e0a3"
      },
      "source": [
        "# List Comprehensions\n",
        "\n",
        "# Given a list of numbers, make a new list that contains only the even numbers\n",
        "\n",
        "numbers = [2,6,7,89,4,2,4,346,3,2,12,34,4,9]\n",
        "result = []\n",
        "\n",
        "for n in numbers:\n",
        "    if n % 2 == 0:  # if n is even\n",
        "        result.append(n * 10)\n",
        "\n",
        "print(result)\n",
        "\n",
        "numbers = [2,6,7,89,4,2,4,346,3,2,12,34,4,9]\n",
        "\n",
        "#      output        input           filter (optional)\n",
        "result = [n*10  for n in numbers     if n % 2 == 0]  # List comprehension\n",
        "\n",
        "print(result)\n",
        "\n",
        "# Example with no filter\n",
        "import math\n",
        "\n",
        "result = [math.sqrt(n)  for n in numbers]\n",
        "\n",
        "print(result)\n",
        "\n",
        "# Simple copy of a list\n",
        "result = [n for n in numbers]\n",
        "\n",
        "print(result)\n",
        "\n",
        "names = [\"alice\", \"bob\", \"charlie\", \"dave\", \"eve jones\"]\n",
        "\n",
        "names_capitalized = [n.title() for n in names]\n",
        "#names_capitalized = [n[0].upper() + n[1:] for n in names]  # If you didn't know .title\n",
        "\n",
        "print(names_capitalized)"
      ],
      "execution_count": null,
      "outputs": [
        {
          "output_type": "stream",
          "text": [
            "[20, 60, 40, 20, 40, 3460, 20, 120, 340, 40]\n",
            "[20, 60, 40, 20, 40, 3460, 20, 120, 340, 40]\n",
            "[1.4142135623730951, 2.449489742783178, 2.6457513110645907, 9.433981132056603, 2.0, 1.4142135623730951, 2.0, 18.601075237738275, 1.7320508075688772, 1.4142135623730951, 3.4641016151377544, 5.830951894845301, 2.0, 3.0]\n",
            "[2, 6, 7, 89, 4, 2, 4, 346, 3, 2, 12, 34, 4, 9]\n",
            "['Alice', 'Bob', 'Charlie', 'Dave', 'Eve Jones']\n"
          ],
          "name": "stdout"
        }
      ]
    },
    {
      "cell_type": "code",
      "metadata": {
        "colab": {
          "base_uri": "https://localhost:8080/"
        },
        "id": "oNjIzmu4KeXi",
        "outputId": "4d8e6634-a761-4573-cb8a-d19a983e97e3"
      },
      "source": [
        "# Dictionaries\n",
        "\n",
        "# Key-value pairs\n",
        "\n",
        "d = {\n",
        "    \"a\": 23,\n",
        "    \"something\": 3.14,\n",
        "    \"this thing\": False,\n",
        "    42: \"who knows\"\n",
        "}\n",
        "\n",
        "# You can look up a value by key, or set a value by key\n",
        "\n",
        "# Keys (at least) can't be lists or sets.\n",
        "# Can be objects, tuples, primitive types\n",
        "\n",
        "print(d[\"a\"])\n",
        "print(d[42])\n",
        "\n",
        "d[\"xyz\"] = \"123\"\n",
        "print(d[\"xyz\"])\n",
        "\n",
        "# Is a key in the dict?\n",
        "\n",
        "print(\"xyz\" in d)\n",
        "print(\"fred\" in d)\n"
      ],
      "execution_count": null,
      "outputs": [
        {
          "output_type": "stream",
          "text": [
            "23\n",
            "who knows\n",
            "123\n",
            "True\n",
            "False\n"
          ],
          "name": "stdout"
        }
      ]
    },
    {
      "cell_type": "code",
      "metadata": {
        "colab": {
          "base_uri": "https://localhost:8080/"
        },
        "id": "mKRnHmpEQgtK",
        "outputId": "b4fe7d57-b4df-451a-a7c5-bd9a24512cf7"
      },
      "source": [
        "# Iterating over a dictionary\n",
        "\n",
        "for key in d:\n",
        "    print(key)\n",
        "\n",
        "print()\n",
        "\n",
        "# Getting keys/values\n",
        "for key in d:\n",
        "    value = d[key]\n",
        "    print(key, value)\n",
        "\n",
        "print()\n",
        "\n",
        "# Getting keys/values II\n",
        "for key, value in d.items():\n",
        "    print(key, value)\n"
      ],
      "execution_count": null,
      "outputs": [
        {
          "output_type": "stream",
          "text": [
            "a\n",
            "something\n",
            "this thing\n",
            "42\n",
            "xyz\n",
            "\n",
            "a 23\n",
            "something 3.14\n",
            "this thing False\n",
            "42 who knows\n",
            "xyz 123\n",
            "\n",
            "a 23\n",
            "something 3.14\n",
            "this thing False\n",
            "42 who knows\n",
            "xyz 123\n"
          ],
          "name": "stdout"
        }
      ]
    },
    {
      "cell_type": "code",
      "metadata": {
        "colab": {
          "base_uri": "https://localhost:8080/"
        },
        "id": "1KTqwJILUVRD",
        "outputId": "9fb656d4-9b1c-4ac2-b85c-057084142c3b"
      },
      "source": [
        "http_raw = [\n",
        "    \"Age: 528981\",\n",
        "    \"Cache-Control: max-age=604800\",\n",
        "    \"Content-Type: text/html; charset=UTF-8\",\n",
        "    \"Date: Wed, 10 Mar 2021 18:04:08 GMT\",\n",
        "    'Etag: \"3147526947+ident\"',\n",
        "    \"Expires: Wed, 17 Mar 2021 18:04:08 GMT\",\n",
        "    \"Last-Modified: Thu, 17 Oct 2019 07:18:26 GMT\",\n",
        "    \"Server: ECS (sec/96C8)\",\n",
        "    \"Vary: Accept-Encoding\",\n",
        "    \"X-Cache: HIT\",\n",
        "    \"Content-Length: 1256\",\n",
        "]\n",
        "\n",
        "\"\"\"\n",
        "# Works!\n",
        "http_headers = {}  # { \"Age\": \"528981\", \"Cache-Control\": \"max-age: 604800\" ...}\n",
        "\n",
        "kv_pairs = [i.split(\": \") for i in http_raw]\n",
        "\n",
        "for k, v in kv_pairs:\n",
        "    http_headers[k] = v\n",
        "\"\"\"\n",
        "\n",
        "kv_pairs = [i.split(\": \") for i in http_raw]\n",
        "http_headers = dict(kv_pairs)  # Not so fun fast way\n",
        "\n",
        "print(http_headers)"
      ],
      "execution_count": null,
      "outputs": [
        {
          "output_type": "stream",
          "text": [
            "{'Age': '528981', 'Cache-Control': 'max-age=604800', 'Content-Type': 'text/html; charset=UTF-8', 'Date': 'Wed, 10 Mar 2021 18:04:08 GMT', 'Etag': '\"3147526947+ident\"', 'Expires': 'Wed, 17 Mar 2021 18:04:08 GMT', 'Last-Modified': 'Thu, 17 Oct 2019 07:18:26 GMT', 'Server': 'ECS (sec/96C8)', 'Vary': 'Accept-Encoding', 'X-Cache': 'HIT', 'Content-Length': '1256'}\n"
          ],
          "name": "stdout"
        }
      ]
    },
    {
      "cell_type": "code",
      "metadata": {
        "colab": {
          "base_uri": "https://localhost:8080/"
        },
        "id": "KaMSojn7W_6p",
        "outputId": "4d6c304c-fb5c-447a-8568-b703e3f1e552"
      },
      "source": [
        "http_headers = {}\n",
        "\n",
        "for row in http_raw:\n",
        "    k, v = row.split(\": \")\n",
        "    http_headers[k] = v\n",
        "\n",
        "print(http_headers)"
      ],
      "execution_count": null,
      "outputs": [
        {
          "output_type": "stream",
          "text": [
            "{'Age': '528981', 'Cache-Control': 'max-age=604800', 'Content-Type': 'text/html; charset=UTF-8', 'Date': 'Wed, 10 Mar 2021 18:04:08 GMT', 'Etag': '\"3147526947+ident\"', 'Expires': 'Wed, 17 Mar 2021 18:04:08 GMT', 'Last-Modified': 'Thu, 17 Oct 2019 07:18:26 GMT', 'Server': 'ECS (sec/96C8)', 'Vary': 'Accept-Encoding', 'X-Cache': 'HIT', 'Content-Length': '1256'}\n"
          ],
          "name": "stdout"
        }
      ]
    },
    {
      "cell_type": "markdown",
      "metadata": {
        "id": "KW8qdbfubErL"
      },
      "source": [
        "# Time Complexity (AKA Big-O notation)\n",
        "\n",
        "Big-O describes how well an algorithm _scales_ as the amount of data to process increases.\n",
        "\n",
        "It's not \"how fast\" an algorithm is.\n",
        "\n",
        "Big-O gives us \"language\" to describe how the process scales over input size.\n",
        "\n",
        "We're counting how many \"operations\" occur for a given input."
      ]
    },
    {
      "cell_type": "code",
      "metadata": {
        "colab": {
          "base_uri": "https://localhost:8080/",
          "height": 132
        },
        "id": "BsayYI5fc4tC",
        "outputId": "08466d5a-5adc-45e1-ae1c-7473221075f0"
      },
      "source": [
        "def foo(n):   # O(n), \"linear\"\n",
        "    for i in range(n):\n",
        "        print(i)       # This is the 'operation'\n",
        "\n",
        "def bar(n): # O(n^2)\n",
        "    for i in range(n):\n",
        "        for j in range(n):\n",
        "            print(i, j)   # The operation\n",
        "\n",
        "def baz(n, m):  # O(n * m), muliply loops together\n",
        "    for i in range(n):\n",
        "        for j in range(m):\n",
        "            print(i, j)   # The operation\n",
        "\n",
        "def frotz(n): # O(n + n^2) == O(n^2)     Keep the dominant term\n",
        "    for i in range(n):  # O(n)\n",
        "        print(i)       # This is the 'operation'\n",
        "\n",
        "    for i in range(n):  # O(n^2)\n",
        "        for j in range(n):\n",
        "            print(i, j)   # The operation\n",
        "\n",
        "def a(n):   # O(1) over the size of n\n",
        "    return 4\n",
        "\n",
        "# O(m) over the size of m\n",
        "# O(1) over the size of n\n",
        "def b(n, m):\n",
        "\n",
        "    for i in range(m):\n",
        "        print(i)\n",
        "\n",
        "    return n\n",
        "\n",
        "b(1, 10)\n",
        "b(1000000, 10)\n",
        "\n",
        "\n",
        "def c(n):  # O(1) over n\n",
        "    for i in range(1000000000000000):  # O(100000000000000000*1) == O(1)\n",
        "        print(i)\n",
        "\n",
        "def d(n):\n",
        "    for i in range(10*n):  # O(10*n) == O(n), drop the constant factor\n",
        "        print(i)\n"
      ],
      "execution_count": null,
      "outputs": [
        {
          "output_type": "error",
          "ename": "SyntaxError",
          "evalue": "ignored",
          "traceback": [
            "\u001b[0;36m  File \u001b[0;32m\"<ipython-input-44-33212875aabc>\"\u001b[0;36m, line \u001b[0;32m5\u001b[0m\n\u001b[0;31m    def bar(n):\u001b[0m\n\u001b[0m               ^\u001b[0m\n\u001b[0;31mSyntaxError\u001b[0m\u001b[0;31m:\u001b[0m unexpected EOF while parsing\n"
          ]
        }
      ]
    },
    {
      "cell_type": "code",
      "metadata": {
        "id": "kWS002DCc7EG"
      },
      "source": [
        ""
      ],
      "execution_count": null,
      "outputs": []
    }
  ]
}